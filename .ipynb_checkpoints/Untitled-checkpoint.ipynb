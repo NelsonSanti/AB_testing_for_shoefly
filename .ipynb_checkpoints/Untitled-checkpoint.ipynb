{
 "cells": [
  {
   "cell_type": "markdown",
   "id": "0ff6a45e-a096-4ed4-b731-04d58c3aaaaf",
   "metadata": {},
   "source": [
    "# A/B Testing for ShoeFly.com\n",
    "\n",
    "An A/B Test is performed in this online shoe store. They have two different versions of an ad, which they have placed in emails and banner ads on Facebook, Twitter, and Google. For this exercise, they wanted to know how the two ads are performing on each of their different platforms on each day of the week.\n",
    "\n",
    "## Useful information\n",
    "\n",
    "- `user_id`: _unique number_ that identifies each user\n",
    "- `utm_source`: tells from what UTM (Urchin Tracking Module) the ad click comes from - (Google, Facebook, Twitter(X), email)\n",
    "- `day`: The day the user clicked the ad\n",
    "- `ad_click_timestamp`: the time that the ad platform was clicked\n",
    "- `experimental_group`: The two ads being tested - whether the user was shown ad A or ad B"
   ]
  },
  {
   "cell_type": "markdown",
   "id": "f93032f5-bd18-4550-a7bf-4a4061277a39",
   "metadata": {},
   "source": [
    "### Step 1\n",
    "\n",
    "I started by looking at the data and examining the first five rows. "
   ]
  },
  {
   "cell_type": "code",
   "execution_count": 2,
   "id": "2b6e94c7-e462-46be-b9c9-bf81c88ce8eb",
   "metadata": {},
   "outputs": [
    {
     "data": {
      "text/html": [
       "<div>\n",
       "<style scoped>\n",
       "    .dataframe tbody tr th:only-of-type {\n",
       "        vertical-align: middle;\n",
       "    }\n",
       "\n",
       "    .dataframe tbody tr th {\n",
       "        vertical-align: top;\n",
       "    }\n",
       "\n",
       "    .dataframe thead th {\n",
       "        text-align: right;\n",
       "    }\n",
       "</style>\n",
       "<table border=\"1\" class=\"dataframe\">\n",
       "  <thead>\n",
       "    <tr style=\"text-align: right;\">\n",
       "      <th></th>\n",
       "      <th>user_id</th>\n",
       "      <th>utm_source</th>\n",
       "      <th>day</th>\n",
       "      <th>ad_click_timestamp</th>\n",
       "      <th>experimental_group</th>\n",
       "    </tr>\n",
       "  </thead>\n",
       "  <tbody>\n",
       "    <tr>\n",
       "      <th>0</th>\n",
       "      <td>008b7c6c-7272-471e-b90e-930d548bd8d7</td>\n",
       "      <td>google</td>\n",
       "      <td>6 - Saturday</td>\n",
       "      <td>7:18</td>\n",
       "      <td>A</td>\n",
       "    </tr>\n",
       "    <tr>\n",
       "      <th>1</th>\n",
       "      <td>009abb94-5e14-4b6c-bb1c-4f4df7aa7557</td>\n",
       "      <td>facebook</td>\n",
       "      <td>7 - Sunday</td>\n",
       "      <td>NaN</td>\n",
       "      <td>B</td>\n",
       "    </tr>\n",
       "    <tr>\n",
       "      <th>2</th>\n",
       "      <td>00f5d532-ed58-4570-b6d2-768df5f41aed</td>\n",
       "      <td>twitter</td>\n",
       "      <td>2 - Tuesday</td>\n",
       "      <td>NaN</td>\n",
       "      <td>A</td>\n",
       "    </tr>\n",
       "    <tr>\n",
       "      <th>3</th>\n",
       "      <td>011adc64-0f44-4fd9-a0bb-f1506d2ad439</td>\n",
       "      <td>google</td>\n",
       "      <td>2 - Tuesday</td>\n",
       "      <td>NaN</td>\n",
       "      <td>B</td>\n",
       "    </tr>\n",
       "    <tr>\n",
       "      <th>4</th>\n",
       "      <td>012137e6-7ae7-4649-af68-205b4702169c</td>\n",
       "      <td>facebook</td>\n",
       "      <td>7 - Sunday</td>\n",
       "      <td>NaN</td>\n",
       "      <td>B</td>\n",
       "    </tr>\n",
       "  </tbody>\n",
       "</table>\n",
       "</div>"
      ],
      "text/plain": [
       "                                user_id utm_source           day  \\\n",
       "0  008b7c6c-7272-471e-b90e-930d548bd8d7     google  6 - Saturday   \n",
       "1  009abb94-5e14-4b6c-bb1c-4f4df7aa7557   facebook    7 - Sunday   \n",
       "2  00f5d532-ed58-4570-b6d2-768df5f41aed    twitter   2 - Tuesday   \n",
       "3  011adc64-0f44-4fd9-a0bb-f1506d2ad439     google   2 - Tuesday   \n",
       "4  012137e6-7ae7-4649-af68-205b4702169c   facebook    7 - Sunday   \n",
       "\n",
       "  ad_click_timestamp experimental_group  \n",
       "0               7:18                  A  \n",
       "1                NaN                  B  \n",
       "2                NaN                  A  \n",
       "3                NaN                  B  \n",
       "4                NaN                  B  "
      ]
     },
     "execution_count": 2,
     "metadata": {},
     "output_type": "execute_result"
    }
   ],
   "source": [
    "import pandas as pd\n",
    "\n",
    "ad_clicks = pd.read_csv('shoefly_data.csv')\n",
    "ad_clicks.head()"
   ]
  },
  {
   "cell_type": "markdown",
   "id": "396ab7a2-376e-4b24-84a7-46d72962b759",
   "metadata": {},
   "source": [
    "### Step 2\n",
    "\n",
    "The manager wanted to know which ad platform was getting the most views so I examined how many views came from each UTM source creating a Series."
   ]
  },
  {
   "cell_type": "code",
   "execution_count": 3,
   "id": "9e63ba50-4928-40c9-bb5a-2f6dd85bda54",
   "metadata": {},
   "outputs": [
    {
     "data": {
      "text/plain": [
       "utm_source\n",
       "email       255\n",
       "facebook    504\n",
       "google      680\n",
       "twitter     215\n",
       "Name: user_id, dtype: int64"
      ]
     },
     "execution_count": 3,
     "metadata": {},
     "output_type": "execute_result"
    }
   ],
   "source": [
    "counting_views = ad_clicks.groupby('utm_source').user_id.count()\n",
    "counting_views"
   ]
  },
  {
   "cell_type": "markdown",
   "id": "1f12a3ee-0d0b-4807-aba3-8db8220cfa3a",
   "metadata": {},
   "source": [
    "_Google was the most visited platform._ "
   ]
  },
  {
   "cell_type": "markdown",
   "id": "3563f973-3fbb-4aaf-a773-1087e76dc1e0",
   "metadata": {},
   "source": [
    "### Step 3\n",
    "\n",
    "Checking whether the ad click timestamps are not null. If they are, this means that someone clicked on the ad that was displayed.\n",
    "`True` means that a user clicked on the ad, `False` tell us otherwise."
   ]
  },
  {
   "cell_type": "code",
   "execution_count": 4,
   "id": "d53596d0-82fe-4810-b22c-e1b2ec9e089b",
   "metadata": {},
   "outputs": [
    {
     "data": {
      "text/plain": [
       "0        True\n",
       "1       False\n",
       "2       False\n",
       "3       False\n",
       "4       False\n",
       "        ...  \n",
       "1649    False\n",
       "1650    False\n",
       "1651    False\n",
       "1652     True\n",
       "1653    False\n",
       "Name: ad_click_timestamp, Length: 1654, dtype: bool"
      ]
     },
     "execution_count": 4,
     "metadata": {},
     "output_type": "execute_result"
    }
   ],
   "source": [
    "new_column_is_click = ad_clicks['is_click'] = ad_clicks['ad_click_timestamp'].notnull()\n",
    "new_column_is_click"
   ]
  },
  {
   "cell_type": "markdown",
   "id": "88ca7bff-f3d0-4782-a0ce-ec009980f604",
   "metadata": {},
   "source": [
    "### Step 4\n",
    "\n",
    "Now I wanted to know the **number of people** who clicked on ads from each UTM source."
   ]
  },
  {
   "cell_type": "code",
   "execution_count": 5,
   "id": "1dfa4896-e930-401d-aa57-8cba08b376cb",
   "metadata": {},
   "outputs": [
    {
     "data": {
      "text/html": [
       "<div>\n",
       "<style scoped>\n",
       "    .dataframe tbody tr th:only-of-type {\n",
       "        vertical-align: middle;\n",
       "    }\n",
       "\n",
       "    .dataframe tbody tr th {\n",
       "        vertical-align: top;\n",
       "    }\n",
       "\n",
       "    .dataframe thead th {\n",
       "        text-align: right;\n",
       "    }\n",
       "</style>\n",
       "<table border=\"1\" class=\"dataframe\">\n",
       "  <thead>\n",
       "    <tr style=\"text-align: right;\">\n",
       "      <th></th>\n",
       "      <th>utm_source</th>\n",
       "      <th>is_click</th>\n",
       "      <th>user_id</th>\n",
       "    </tr>\n",
       "  </thead>\n",
       "  <tbody>\n",
       "    <tr>\n",
       "      <th>0</th>\n",
       "      <td>email</td>\n",
       "      <td>False</td>\n",
       "      <td>175</td>\n",
       "    </tr>\n",
       "    <tr>\n",
       "      <th>1</th>\n",
       "      <td>email</td>\n",
       "      <td>True</td>\n",
       "      <td>80</td>\n",
       "    </tr>\n",
       "    <tr>\n",
       "      <th>2</th>\n",
       "      <td>facebook</td>\n",
       "      <td>False</td>\n",
       "      <td>324</td>\n",
       "    </tr>\n",
       "    <tr>\n",
       "      <th>3</th>\n",
       "      <td>facebook</td>\n",
       "      <td>True</td>\n",
       "      <td>180</td>\n",
       "    </tr>\n",
       "    <tr>\n",
       "      <th>4</th>\n",
       "      <td>google</td>\n",
       "      <td>False</td>\n",
       "      <td>441</td>\n",
       "    </tr>\n",
       "    <tr>\n",
       "      <th>5</th>\n",
       "      <td>google</td>\n",
       "      <td>True</td>\n",
       "      <td>239</td>\n",
       "    </tr>\n",
       "    <tr>\n",
       "      <th>6</th>\n",
       "      <td>twitter</td>\n",
       "      <td>False</td>\n",
       "      <td>149</td>\n",
       "    </tr>\n",
       "    <tr>\n",
       "      <th>7</th>\n",
       "      <td>twitter</td>\n",
       "      <td>True</td>\n",
       "      <td>66</td>\n",
       "    </tr>\n",
       "  </tbody>\n",
       "</table>\n",
       "</div>"
      ],
      "text/plain": [
       "  utm_source  is_click  user_id\n",
       "0      email     False      175\n",
       "1      email      True       80\n",
       "2   facebook     False      324\n",
       "3   facebook      True      180\n",
       "4     google     False      441\n",
       "5     google      True      239\n",
       "6    twitter     False      149\n",
       "7    twitter      True       66"
      ]
     },
     "execution_count": 5,
     "metadata": {},
     "output_type": "execute_result"
    }
   ],
   "source": [
    "clicks_by_source = ad_clicks.groupby(['utm_source', 'is_click']).user_id.count().reset_index()\n",
    "clicks_by_source"
   ]
  },
  {
   "cell_type": "markdown",
   "id": "35667426-2c4a-4231-aa25-3400180a7f55",
   "metadata": {},
   "source": [
    "_Google got the greater number of people that clicked on an ad, with 239 clicks. In turn Twitter is the platform with least number of people that clicked on an ad, with 66 clicks._"
   ]
  },
  {
   "cell_type": "markdown",
   "id": "afa2619c-3ad1-48d3-b101-4bc739c360fa",
   "metadata": {},
   "source": [
    "### Step 5\n",
    "\n",
    "Pivoting the table for better readability."
   ]
  },
  {
   "cell_type": "code",
   "execution_count": 6,
   "id": "dc3b4029-ac2b-44d6-ada4-077fafa99a99",
   "metadata": {},
   "outputs": [
    {
     "data": {
      "text/html": [
       "<div>\n",
       "<style scoped>\n",
       "    .dataframe tbody tr th:only-of-type {\n",
       "        vertical-align: middle;\n",
       "    }\n",
       "\n",
       "    .dataframe tbody tr th {\n",
       "        vertical-align: top;\n",
       "    }\n",
       "\n",
       "    .dataframe thead th {\n",
       "        text-align: right;\n",
       "    }\n",
       "</style>\n",
       "<table border=\"1\" class=\"dataframe\">\n",
       "  <thead>\n",
       "    <tr style=\"text-align: right;\">\n",
       "      <th>is_click</th>\n",
       "      <th>False</th>\n",
       "      <th>True</th>\n",
       "    </tr>\n",
       "    <tr>\n",
       "      <th>utm_source</th>\n",
       "      <th></th>\n",
       "      <th></th>\n",
       "    </tr>\n",
       "  </thead>\n",
       "  <tbody>\n",
       "    <tr>\n",
       "      <th>email</th>\n",
       "      <td>175</td>\n",
       "      <td>80</td>\n",
       "    </tr>\n",
       "    <tr>\n",
       "      <th>facebook</th>\n",
       "      <td>324</td>\n",
       "      <td>180</td>\n",
       "    </tr>\n",
       "    <tr>\n",
       "      <th>google</th>\n",
       "      <td>441</td>\n",
       "      <td>239</td>\n",
       "    </tr>\n",
       "    <tr>\n",
       "      <th>twitter</th>\n",
       "      <td>149</td>\n",
       "      <td>66</td>\n",
       "    </tr>\n",
       "  </tbody>\n",
       "</table>\n",
       "</div>"
      ],
      "text/plain": [
       "is_click    False  True \n",
       "utm_source              \n",
       "email         175     80\n",
       "facebook      324    180\n",
       "google        441    239\n",
       "twitter       149     66"
      ]
     },
     "execution_count": 6,
     "metadata": {},
     "output_type": "execute_result"
    }
   ],
   "source": [
    "clicks_pivot = clicks_by_source.pivot(\n",
    "    columns = 'is_click',\n",
    "    index='utm_source',\n",
    "    values='user_id'\n",
    ")\n",
    "clicks_pivot"
   ]
  },
  {
   "cell_type": "markdown",
   "id": "418e8d77-9f87-49e4-ac58-b022c42199cd",
   "metadata": {},
   "source": [
    "### Step 6\n",
    "\n",
    "Creating a column to calculate the **percentage of users** who clicked on the ad from each UTM source."
   ]
  },
  {
   "cell_type": "code",
   "execution_count": 7,
   "id": "7418b750-221d-430a-9008-6fbb90ca8d4a",
   "metadata": {},
   "outputs": [
    {
     "data": {
      "text/html": [
       "<div>\n",
       "<style scoped>\n",
       "    .dataframe tbody tr th:only-of-type {\n",
       "        vertical-align: middle;\n",
       "    }\n",
       "\n",
       "    .dataframe tbody tr th {\n",
       "        vertical-align: top;\n",
       "    }\n",
       "\n",
       "    .dataframe thead th {\n",
       "        text-align: right;\n",
       "    }\n",
       "</style>\n",
       "<table border=\"1\" class=\"dataframe\">\n",
       "  <thead>\n",
       "    <tr style=\"text-align: right;\">\n",
       "      <th>is_click</th>\n",
       "      <th>False</th>\n",
       "      <th>True</th>\n",
       "      <th>percentage_clicked</th>\n",
       "    </tr>\n",
       "    <tr>\n",
       "      <th>utm_source</th>\n",
       "      <th></th>\n",
       "      <th></th>\n",
       "      <th></th>\n",
       "    </tr>\n",
       "  </thead>\n",
       "  <tbody>\n",
       "    <tr>\n",
       "      <th>email</th>\n",
       "      <td>175</td>\n",
       "      <td>80</td>\n",
       "      <td>31.37</td>\n",
       "    </tr>\n",
       "    <tr>\n",
       "      <th>facebook</th>\n",
       "      <td>324</td>\n",
       "      <td>180</td>\n",
       "      <td>35.71</td>\n",
       "    </tr>\n",
       "    <tr>\n",
       "      <th>google</th>\n",
       "      <td>441</td>\n",
       "      <td>239</td>\n",
       "      <td>35.15</td>\n",
       "    </tr>\n",
       "    <tr>\n",
       "      <th>twitter</th>\n",
       "      <td>149</td>\n",
       "      <td>66</td>\n",
       "      <td>30.70</td>\n",
       "    </tr>\n",
       "  </tbody>\n",
       "</table>\n",
       "</div>"
      ],
      "text/plain": [
       "is_click    False  True  percentage_clicked\n",
       "utm_source                                 \n",
       "email         175    80               31.37\n",
       "facebook      324   180               35.71\n",
       "google        441   239               35.15\n",
       "twitter       149    66               30.70"
      ]
     },
     "execution_count": 7,
     "metadata": {},
     "output_type": "execute_result"
    }
   ],
   "source": [
    "new_column = clicks_pivot['percentage_clicked'] = clicks_pivot[True]/(clicks_pivot[True]+clicks_pivot[False])*100\n",
    "#converting into 2 decimals\n",
    "clicks_pivot['percentage_clicked'] = clicks_pivot['percentage_clicked'].round(2)\n",
    "clicks_pivot"
   ]
  },
  {
   "cell_type": "markdown",
   "id": "0ed76e9d-1dd2-4573-baeb-0c9ed9ca1db1",
   "metadata": {},
   "source": [
    "### Step 7: Analyzing an A/B Test\n",
    "\n",
    "The column `experimental_group` tells us whether the user was shown Ad A or Ad B.\n",
    "\n",
    "Checking the number of people shown in both ads."
   ]
  },
  {
   "cell_type": "code",
   "execution_count": 8,
   "id": "b26c60ff-9396-4e98-b100-270c4d436689",
   "metadata": {},
   "outputs": [
    {
     "data": {
      "text/plain": [
       "experimental_group\n",
       "A    827\n",
       "B    827\n",
       "Name: user_id, dtype: int64"
      ]
     },
     "execution_count": 8,
     "metadata": {},
     "output_type": "execute_result"
    }
   ],
   "source": [
    "check_ads = ad_clicks.groupby('experimental_group').user_id.count()\n",
    "check_ads"
   ]
  },
  {
   "cell_type": "markdown",
   "id": "c8203211-73eb-41f0-8f4e-1eafec2004cd",
   "metadata": {},
   "source": [
    "_The number of users that have shown both ads is the same_."
   ]
  },
  {
   "cell_type": "markdown",
   "id": "ae5f6e19-e89b-492e-a0bb-d8e867fe9b09",
   "metadata": {},
   "source": [
    "### Step 8\n",
    "\n",
    "Checking if a greater number of users clicked on ad A or ad B"
   ]
  },
  {
   "cell_type": "code",
   "execution_count": 9,
   "id": "7955361c-1a95-4ba3-9e22-de0a54aed000",
   "metadata": {},
   "outputs": [
    {
     "name": "stdout",
     "output_type": "stream",
     "text": [
      "experimental_group    A    B\n",
      "is_click                    \n",
      "False               517  572\n",
      "True                310  255\n"
     ]
    }
   ],
   "source": [
    "check_ads_pencentage = ad_clicks.groupby(['experimental_group', 'is_click']).user_id.count().reset_index()\n",
    "#print(check_ads_pencentage)\n",
    "\n",
    "#Pivoting \n",
    "pivoted_check_ads_pencentage = check_ads_pencentage.pivot(columns='experimental_group',\n",
    "index='is_click',\n",
    "values='user_id')\n",
    "print(pivoted_check_ads_pencentage)"
   ]
  },
  {
   "cell_type": "markdown",
   "id": "27590c96-2be3-4ae8-9271-164b0c9d653e",
   "metadata": {},
   "source": [
    "_At this point, we can verify that 310 of the 827 users who were shown ad A clicked on it, while 255 clicked on ad B. So, a greater number of users clicked on ad A._"
   ]
  },
  {
   "cell_type": "markdown",
   "id": "a610865f-58d8-499b-9d56-28df2f948cae",
   "metadata": {},
   "source": [
    "### Step 9\n",
    "\n",
    "Checking if the clicks by `experimental_group` have changed by day of the week."
   ]
  },
  {
   "cell_type": "code",
   "execution_count": 40,
   "id": "2a7c8aee-bd8c-4856-8b00-baa3491ed0a7",
   "metadata": {},
   "outputs": [
    {
     "name": "stdout",
     "output_type": "stream",
     "text": [
      "day       1 - Monday  2 - Tuesday  3 - Wednesday  4 - Thursday  5 - Friday  \\\n",
      "is_click                                                                     \n",
      "False             70           76             86            69          77   \n",
      "True              43           43             38            47          51   \n",
      "\n",
      "day       6 - Saturday  7 - Sunday  \n",
      "is_click                            \n",
      "False               73          66  \n",
      "True                45          43  \n",
      "\n",
      "\n",
      "day       1 - Monday  2 - Tuesday  3 - Wednesday  4 - Thursday  5 - Friday  \\\n",
      "is_click                                                                     \n",
      "False             81           74             89            87          90   \n",
      "True              32           45             35            29          38   \n",
      "\n",
      "day       6 - Saturday  7 - Sunday  \n",
      "is_click                            \n",
      "False               76          75  \n",
      "True                42          34  \n"
     ]
    }
   ],
   "source": [
    "a_clicks = ad_clicks[ad_clicks.experimental_group == 'A']\n",
    "b_clicks = ad_clicks[ad_clicks.experimental_group == 'B']\n",
    "#print(a_clicks)\n",
    "\n",
    "group_A = a_clicks.groupby(['is_click', 'day']).user_id.count().reset_index()\n",
    "#print(group_A)\n",
    "\n",
    "group_B = b_clicks.groupby(['is_click', 'day']).user_id.count().reset_index()\n",
    "#print(group_B)\n",
    "\n",
    "#Pivoting both table groups\n",
    "pivoted_A = group_A.pivot(columns='day',\n",
    "index='is_click',\n",
    "values='user_id')\n",
    "\n",
    "pivoted_B = group_B.pivot(columns='day',\n",
    "index='is_click',\n",
    "values='user_id')\n",
    "\n",
    "print(pivoted_A)\n",
    "print('\\n')\n",
    "print(pivoted_B)"
   ]
  },
  {
   "cell_type": "markdown",
   "id": "fe2d5c0e-197c-4556-b061-a9bf6c7d906f",
   "metadata": {},
   "source": [
    "### Step 10\n",
    "\n",
    "Calculating the percentage of people, by group, who clicked on the ad by day."
   ]
  },
  {
   "cell_type": "code",
   "execution_count": 41,
   "id": "fc7a0f5a-bc3d-49e5-82bb-689a57747177",
   "metadata": {},
   "outputs": [
    {
     "name": "stdout",
     "output_type": "stream",
     "text": [
      "day\n",
      "1 - Monday       38.05\n",
      "2 - Tuesday      36.13\n",
      "3 - Wednesday    30.65\n",
      "4 - Thursday     40.52\n",
      "5 - Friday       39.84\n",
      "6 - Saturday     38.14\n",
      "7 - Sunday       39.45\n",
      "Name: percentage_clicked_A_by_day, dtype: float64\n"
     ]
    }
   ],
   "source": [
    "pivoted_A.loc['percentage_clicked_A_by_day'] = pivoted_A.loc[True] / (pivoted_A.loc[True] + pivoted_A.loc[False]) * 100\n",
    "\n",
    "print(pivoted_A.loc['percentage_clicked_A_by_day'].round(2))"
   ]
  },
  {
   "cell_type": "markdown",
   "id": "cec6aba4-c89d-46e0-8554-99ff81c007ad",
   "metadata": {},
   "source": [
    "_Thursday was the day most people on group A clicked on the ad._"
   ]
  },
  {
   "cell_type": "code",
   "execution_count": 42,
   "id": "e7e44be4-02cb-454b-b720-aef8cd46c4b0",
   "metadata": {},
   "outputs": [
    {
     "name": "stdout",
     "output_type": "stream",
     "text": [
      "day\n",
      "1 - Monday       28.32\n",
      "2 - Tuesday      37.82\n",
      "3 - Wednesday    28.23\n",
      "4 - Thursday     25.00\n",
      "5 - Friday       29.69\n",
      "6 - Saturday     35.59\n",
      "7 - Sunday       31.19\n",
      "Name: percentage_clicked_B_by_day, dtype: float64\n"
     ]
    }
   ],
   "source": [
    "pivoted_B.loc['percentage_clicked_B_by_day'] = pivoted_B.loc[True] / (pivoted_B.loc[True] + pivoted_B.loc[False]) * 100\n",
    "\n",
    "print(pivoted_B.loc['percentage_clicked_B_by_day'].round(2))"
   ]
  },
  {
   "cell_type": "markdown",
   "id": "dc447607-b5ad-4640-87cb-d5739432bf96",
   "metadata": {},
   "source": [
    "_Tuesday was the day most people on group B clicked on the ad._"
   ]
  }
 ],
 "metadata": {
  "kernelspec": {
   "display_name": "Python 3 (ipykernel)",
   "language": "python",
   "name": "python3"
  },
  "language_info": {
   "codemirror_mode": {
    "name": "ipython",
    "version": 3
   },
   "file_extension": ".py",
   "mimetype": "text/x-python",
   "name": "python",
   "nbconvert_exporter": "python",
   "pygments_lexer": "ipython3",
   "version": "3.11.8"
  }
 },
 "nbformat": 4,
 "nbformat_minor": 5
}
